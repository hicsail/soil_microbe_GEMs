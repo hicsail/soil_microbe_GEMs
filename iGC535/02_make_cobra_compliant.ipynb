{
 "cells": [
  {
   "cell_type": "code",
   "execution_count": 2,
   "id": "89ba7242-9b53-4f8f-94ce-a7e693c224ce",
   "metadata": {},
   "outputs": [],
   "source": [
    "# Load libraries\n",
    "import cobra\n",
    "import sys\n",
    "import copy\n",
    "import numpy as np\n",
    "import pandas as pd\n",
    "import os\n",
    "import logging\n",
    "logging.getLogger(\"cobra.io.sbml\").setLevel(logging.ERROR)"
   ]
  },
  {
   "cell_type": "markdown",
   "id": "80cecd51-a273-4de1-b6d6-35f0a6f752ed",
   "metadata": {},
   "source": [
    "## N. europeaa - iGC535"
   ]
  },
  {
   "cell_type": "markdown",
   "id": "35b50e40-f1df-4438-be42-acd4ec6c0ccb",
   "metadata": {},
   "source": [
    "#### Read in original file, and \"modified\" version generated using R script 01_modify_metabolites.r "
   ]
  },
  {
   "cell_type": "code",
   "execution_count": 4,
   "id": "3a9c3ebb-f694-4af0-8018-7eef8580e500",
   "metadata": {},
   "outputs": [
    {
     "name": "stderr",
     "output_type": "stream",
     "text": [
      "'' is not a valid SBML 'SId'.\n"
     ]
    },
    {
     "name": "stdout",
     "output_type": "stream",
     "text": [
      "Set parameter GURO_PAR_SPECIAL\n",
      "Set parameter TokenServer to value \"sccsvc\"\n"
     ]
    }
   ],
   "source": [
    "\n",
    "iGC535_modified_hco3 = cobra.io.read_sbml_model(\"/projectnb2/talbot-lab-data/zrwerbin/soil_microbe_GEMs/iGC535/iGC535_modified.xml\")\n",
    "iGC535_orig_hco3 = cobra.io.read_sbml_model(\"/projectnb2/talbot-lab-data/zrwerbin/soil_microbe_GEMs/iGC535/iGC535_HCO3High.xml\")\n"
   ]
  },
  {
   "cell_type": "markdown",
   "id": "4d10d663-d440-4f75-8947-a53d2af1a8e0",
   "metadata": {},
   "source": [
    "#### Confirm growth rates are the same after modification, and write cobra-compliant version"
   ]
  },
  {
   "cell_type": "code",
   "execution_count": 5,
   "id": "2b4e8128-d3bf-4eb6-8497-b7126b01f1d4",
   "metadata": {},
   "outputs": [
    {
     "name": "stdout",
     "output_type": "stream",
     "text": [
      "0.09999979657511007\n",
      "0.09999979657511014\n"
     ]
    }
   ],
   "source": [
    "print(iGC535_orig_hco3.slim_optimize())\n",
    "print(iGC535_modified_hco3.slim_optimize())\n",
    "iGC535_modified_hco3.id = \"iGC535\"\n"
   ]
  },
  {
   "cell_type": "code",
   "execution_count": 5,
   "id": "3d954340-8675-4773-969e-ae9d44a7f0e7",
   "metadata": {},
   "outputs": [],
   "source": [
    "cobra.io.write_sbml_model(iGC535_modified_hco3, '/projectnb2/talbot-lab-data/zrwerbin/soil_microbe_GEMs/iGC535/iGC535_modified_cobra.xml')\n"
   ]
  }
 ],
 "metadata": {
  "kernelspec": {
   "display_name": "Python 3 (ipykernel)",
   "language": "python",
   "name": "python3"
  },
  "language_info": {
   "codemirror_mode": {
    "name": "ipython",
    "version": 3
   },
   "file_extension": ".py",
   "mimetype": "text/x-python",
   "name": "python",
   "nbconvert_exporter": "python",
   "pygments_lexer": "ipython3",
   "version": "3.9.7"
  }
 },
 "nbformat": 4,
 "nbformat_minor": 5
}
